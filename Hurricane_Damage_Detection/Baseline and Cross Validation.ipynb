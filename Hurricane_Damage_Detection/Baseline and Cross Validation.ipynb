{
  "cells": [
    {
      "cell_type": "markdown",
      "source": [
        "# Loading_Data + Train/Dev Split"
      ],
      "metadata": {
        "id": "emhSDiT60fAt"
      }
    },
    {
      "cell_type": "code",
      "execution_count": null,
      "metadata": {
        "colab": {
          "base_uri": "https://localhost:8080/"
        },
        "id": "lKepdnG_zKgA",
        "outputId": "68ee47ba-bdec-40b1-f5b4-4a3afeb3e850"
      },
      "outputs": [
        {
          "output_type": "stream",
          "name": "stdout",
          "text": [
            "Drive already mounted at /content/drive; to attempt to forcibly remount, call drive.mount(\"/content/drive\", force_remount=True).\n"
          ]
        }
      ],
      "source": [
        "import tensorflow as tf\n",
        "import matplotlib.pyplot as plt\n",
        "import numpy as np\n",
        "import cv2\n",
        "import os\n",
        "from google.colab import drive\n",
        "drive.mount('/content/drive')\n",
        "from PIL import Image\n",
        "from skimage import io\n",
        "\n",
        "\n",
        "from sklearn.metrics import confusion_matrix"
      ]
    },
    {
      "cell_type": "code",
      "execution_count": null,
      "metadata": {
        "id": "FKF4EPdozKgB"
      },
      "outputs": [],
      "source": [
        "#Loading data function\n",
        "def image_loader(folder_path,X,y,label):\n",
        "  for filename in os.listdir(folder_path):\n",
        "      if filename.endswith(\".jpeg\") or filename.endswith(\".png\"):\n",
        "          img = io.imread(os.path.join(folder_path, filename), as_gray=False)\n",
        "          X.append(img)\n",
        "          y.append(label)"
      ]
    },
    {
      "cell_type": "code",
      "source": [
        "y = []\n",
        "X = []\n",
        "##Load Hurricane Damaged Image\n",
        "folder_path = \"/content/drive/MyDrive/Hurricane_Damage_Satellite/train_dev/damage\"\n",
        "label = 1\n",
        "image_loader(folder_path, X, y, label)"
      ],
      "metadata": {
        "id": "wjqWPkPw4n_Z"
      },
      "execution_count": null,
      "outputs": []
    },
    {
      "cell_type": "code",
      "source": [
        "##Load Hurricane unDamaged Image\n",
        "folder_path = \"/content/drive/MyDrive/Hurricane_Damage_Satellite/train_dev/no_damage\"\n",
        "label = 0\n",
        "image_loader(folder_path, X, y, label)"
      ],
      "metadata": {
        "id": "qlol0xLktTZD"
      },
      "execution_count": null,
      "outputs": []
    },
    {
      "cell_type": "code",
      "source": [
        "#Make X and y np array\n",
        "X = np.array(X)\n",
        "y = np.array(y)\n",
        "\n",
        "#Train/Dev Split stratified on class labels\n",
        "from sklearn.model_selection import train_test_split\n",
        "X_tr, X_dev, y_tr, y_dev = train_test_split(X, y, test_size=0.2, random_state=42, stratify=y)\n",
        "\n",
        "#Check shape\n",
        "X_tr.shape"
      ],
      "metadata": {
        "id": "gVi7NvLu4aIC",
        "colab": {
          "base_uri": "https://localhost:8080/"
        },
        "outputId": "36409892-e3f4-4320-dfbe-eebbd247f698"
      },
      "execution_count": null,
      "outputs": [
        {
          "output_type": "execute_result",
          "data": {
            "text/plain": [
              "(18984, 128, 128, 3)"
            ]
          },
          "metadata": {},
          "execution_count": 43
        }
      ]
    },
    {
      "cell_type": "code",
      "source": [
        "#Load Test Set dmage\n",
        "y_te = []\n",
        "X_te = []\n",
        "label = 1\n",
        "folder_path = \"/content/drive/MyDrive/Hurricane_Damage_Satellite/test/damage\"\n",
        "image_loader(folder_path, X_te, y_te, label)"
      ],
      "metadata": {
        "id": "xZZZ7Ki2lHZN"
      },
      "execution_count": null,
      "outputs": []
    },
    {
      "cell_type": "code",
      "source": [
        "#Load Test Set no_dmage\n",
        "label = 0\n",
        "folder_path = \"/content/drive/MyDrive/Hurricane_Damage_Satellite/test/no_damage\"\n",
        "image_loader(folder_path, X_te, y_te, label)\n",
        "\n",
        "X_te = np.array(X_te)\n",
        "y_te = np.array(y_te)"
      ],
      "metadata": {
        "id": "Oh1n2uZ0lsrs"
      },
      "execution_count": null,
      "outputs": []
    },
    {
      "cell_type": "code",
      "source": [
        "y_te.shape"
      ],
      "metadata": {
        "colab": {
          "base_uri": "https://localhost:8080/"
        },
        "id": "6977GB-daNGH",
        "outputId": "2ab7ed3e-116b-48b9-b6d3-4046a2bd43a0"
      },
      "execution_count": null,
      "outputs": [
        {
          "output_type": "execute_result",
          "data": {
            "text/plain": [
              "(2000,)"
            ]
          },
          "metadata": {},
          "execution_count": 39
        }
      ]
    },
    {
      "cell_type": "markdown",
      "source": [
        "# RF on flattened image"
      ],
      "metadata": {
        "id": "czgIUSduf-vW"
      }
    },
    {
      "cell_type": "code",
      "source": [
        "from sklearn.ensemble import RandomForestClassifier\n",
        "RF_clf = RandomForestClassifier()"
      ],
      "metadata": {
        "id": "UfwkgthNsL92"
      },
      "execution_count": null,
      "outputs": []
    },
    {
      "cell_type": "code",
      "source": [
        "X_tr_flattened = X_tr.reshape(X_tr.shape[0], -1)\n",
        "X_dev_flattened = X_dev.reshape(X_dev.shape[0], -1)\n",
        "X_te_flattened = X_te.reshape(X_te.shape[0], -1)"
      ],
      "metadata": {
        "id": "_Xtp14uAw_Zl"
      },
      "execution_count": null,
      "outputs": []
    },
    {
      "cell_type": "code",
      "source": [
        "X_dev_flattened.shape"
      ],
      "metadata": {
        "colab": {
          "base_uri": "https://localhost:8080/"
        },
        "id": "VrMTIhG_F0BP",
        "outputId": "6f81f464-4dc9-4403-90c6-71a212fc6f8a"
      },
      "execution_count": null,
      "outputs": [
        {
          "output_type": "execute_result",
          "data": {
            "text/plain": [
              "(2016, 49152)"
            ]
          },
          "metadata": {},
          "execution_count": 45
        }
      ]
    },
    {
      "cell_type": "code",
      "source": [
        "RF_clf.fit(X_tr_flattened, y_tr)"
      ],
      "metadata": {
        "colab": {
          "base_uri": "https://localhost:8080/",
          "height": 75
        },
        "id": "n27yJRzsDkRZ",
        "outputId": "7eed6136-9fed-4627-e985-36a110417d1c"
      },
      "execution_count": null,
      "outputs": [
        {
          "output_type": "execute_result",
          "data": {
            "text/plain": [
              "RandomForestClassifier()"
            ],
            "text/html": [
              "<style>#sk-container-id-1 {color: black;background-color: white;}#sk-container-id-1 pre{padding: 0;}#sk-container-id-1 div.sk-toggleable {background-color: white;}#sk-container-id-1 label.sk-toggleable__label {cursor: pointer;display: block;width: 100%;margin-bottom: 0;padding: 0.3em;box-sizing: border-box;text-align: center;}#sk-container-id-1 label.sk-toggleable__label-arrow:before {content: \"▸\";float: left;margin-right: 0.25em;color: #696969;}#sk-container-id-1 label.sk-toggleable__label-arrow:hover:before {color: black;}#sk-container-id-1 div.sk-estimator:hover label.sk-toggleable__label-arrow:before {color: black;}#sk-container-id-1 div.sk-toggleable__content {max-height: 0;max-width: 0;overflow: hidden;text-align: left;background-color: #f0f8ff;}#sk-container-id-1 div.sk-toggleable__content pre {margin: 0.2em;color: black;border-radius: 0.25em;background-color: #f0f8ff;}#sk-container-id-1 input.sk-toggleable__control:checked~div.sk-toggleable__content {max-height: 200px;max-width: 100%;overflow: auto;}#sk-container-id-1 input.sk-toggleable__control:checked~label.sk-toggleable__label-arrow:before {content: \"▾\";}#sk-container-id-1 div.sk-estimator input.sk-toggleable__control:checked~label.sk-toggleable__label {background-color: #d4ebff;}#sk-container-id-1 div.sk-label input.sk-toggleable__control:checked~label.sk-toggleable__label {background-color: #d4ebff;}#sk-container-id-1 input.sk-hidden--visually {border: 0;clip: rect(1px 1px 1px 1px);clip: rect(1px, 1px, 1px, 1px);height: 1px;margin: -1px;overflow: hidden;padding: 0;position: absolute;width: 1px;}#sk-container-id-1 div.sk-estimator {font-family: monospace;background-color: #f0f8ff;border: 1px dotted black;border-radius: 0.25em;box-sizing: border-box;margin-bottom: 0.5em;}#sk-container-id-1 div.sk-estimator:hover {background-color: #d4ebff;}#sk-container-id-1 div.sk-parallel-item::after {content: \"\";width: 100%;border-bottom: 1px solid gray;flex-grow: 1;}#sk-container-id-1 div.sk-label:hover label.sk-toggleable__label {background-color: #d4ebff;}#sk-container-id-1 div.sk-serial::before {content: \"\";position: absolute;border-left: 1px solid gray;box-sizing: border-box;top: 0;bottom: 0;left: 50%;z-index: 0;}#sk-container-id-1 div.sk-serial {display: flex;flex-direction: column;align-items: center;background-color: white;padding-right: 0.2em;padding-left: 0.2em;position: relative;}#sk-container-id-1 div.sk-item {position: relative;z-index: 1;}#sk-container-id-1 div.sk-parallel {display: flex;align-items: stretch;justify-content: center;background-color: white;position: relative;}#sk-container-id-1 div.sk-item::before, #sk-container-id-1 div.sk-parallel-item::before {content: \"\";position: absolute;border-left: 1px solid gray;box-sizing: border-box;top: 0;bottom: 0;left: 50%;z-index: -1;}#sk-container-id-1 div.sk-parallel-item {display: flex;flex-direction: column;z-index: 1;position: relative;background-color: white;}#sk-container-id-1 div.sk-parallel-item:first-child::after {align-self: flex-end;width: 50%;}#sk-container-id-1 div.sk-parallel-item:last-child::after {align-self: flex-start;width: 50%;}#sk-container-id-1 div.sk-parallel-item:only-child::after {width: 0;}#sk-container-id-1 div.sk-dashed-wrapped {border: 1px dashed gray;margin: 0 0.4em 0.5em 0.4em;box-sizing: border-box;padding-bottom: 0.4em;background-color: white;}#sk-container-id-1 div.sk-label label {font-family: monospace;font-weight: bold;display: inline-block;line-height: 1.2em;}#sk-container-id-1 div.sk-label-container {text-align: center;}#sk-container-id-1 div.sk-container {/* jupyter's `normalize.less` sets `[hidden] { display: none; }` but bootstrap.min.css set `[hidden] { display: none !important; }` so we also need the `!important` here to be able to override the default hidden behavior on the sphinx rendered scikit-learn.org. See: https://github.com/scikit-learn/scikit-learn/issues/21755 */display: inline-block !important;position: relative;}#sk-container-id-1 div.sk-text-repr-fallback {display: none;}</style><div id=\"sk-container-id-1\" class=\"sk-top-container\"><div class=\"sk-text-repr-fallback\"><pre>RandomForestClassifier()</pre><b>In a Jupyter environment, please rerun this cell to show the HTML representation or trust the notebook. <br />On GitHub, the HTML representation is unable to render, please try loading this page with nbviewer.org.</b></div><div class=\"sk-container\" hidden><div class=\"sk-item\"><div class=\"sk-estimator sk-toggleable\"><input class=\"sk-toggleable__control sk-hidden--visually\" id=\"sk-estimator-id-1\" type=\"checkbox\" checked><label for=\"sk-estimator-id-1\" class=\"sk-toggleable__label sk-toggleable__label-arrow\">RandomForestClassifier</label><div class=\"sk-toggleable__content\"><pre>RandomForestClassifier()</pre></div></div></div></div></div>"
            ]
          },
          "metadata": {},
          "execution_count": 46
        }
      ]
    },
    {
      "cell_type": "code",
      "source": [
        "RF_pred_tr = RF_clf.predict(X_tr_flattened)\n",
        "RF_accuracy_tr = np.mean(RF_pred_tr == y_tr)\n",
        "print(\"Tranning accuracy = \", RF_accuracy_tr)"
      ],
      "metadata": {
        "colab": {
          "base_uri": "https://localhost:8080/"
        },
        "id": "V7qRsmQIJixQ",
        "outputId": "45826fdd-2b21-472f-fe53-638ba5796534"
      },
      "execution_count": null,
      "outputs": [
        {
          "output_type": "stream",
          "name": "stdout",
          "text": [
            "Tranning accuracy =  1.0\n"
          ]
        }
      ]
    },
    {
      "cell_type": "code",
      "source": [
        "RF_pred_dev = RF_clf.predict(X_dev_flattened)\n",
        "RF_accuracy_dev = np.mean(RF_pred_dev == y_dev)\n",
        "print(\"Validation accuracy = \", RF_accuracy_dev)"
      ],
      "metadata": {
        "colab": {
          "base_uri": "https://localhost:8080/"
        },
        "id": "23WTMUVLL0Tq",
        "outputId": "d8ca004b-354b-4f0c-c1c4-cb9bd72e5b9f"
      },
      "execution_count": null,
      "outputs": [
        {
          "output_type": "stream",
          "name": "stdout",
          "text": [
            "Validation accuracy =  0.8546626984126984\n"
          ]
        }
      ]
    },
    {
      "cell_type": "code",
      "source": [
        "RF_pred_te = RF_clf.predict(X_te_flattened)\n",
        "RF_accuracy_te = np.mean(RF_pred_te == y_te)\n",
        "print(\"Test accuracy = \", RF_accuracy_te)"
      ],
      "metadata": {
        "colab": {
          "base_uri": "https://localhost:8080/"
        },
        "id": "J5l-q-zIyZpU",
        "outputId": "28cdcba9-3676-49a4-8b5e-93d3e96b7b32"
      },
      "execution_count": null,
      "outputs": [
        {
          "output_type": "stream",
          "name": "stdout",
          "text": [
            "Test accuracy =  0.967\n"
          ]
        }
      ]
    },
    {
      "cell_type": "code",
      "source": [
        "cm_dev = confusion_matrix(y_dev, RF_pred_dev)\n",
        "print(cm_dev)"
      ],
      "metadata": {
        "colab": {
          "base_uri": "https://localhost:8080/"
        },
        "id": "PUVZfbgS8zJm",
        "outputId": "f1968f37-f2ea-4f81-f67c-d96c41ce7814"
      },
      "execution_count": null,
      "outputs": [
        {
          "output_type": "stream",
          "name": "stdout",
          "text": [
            "[[ 464  208]\n",
            " [  85 1259]]\n"
          ]
        }
      ]
    },
    {
      "cell_type": "code",
      "source": [
        "cm_te = confusion_matrix(y_te, RF_pred_te)\n",
        "print(cm_te)"
      ],
      "metadata": {
        "colab": {
          "base_uri": "https://localhost:8080/"
        },
        "id": "dLKZ5V5k9UFD",
        "outputId": "a42eeb8b-51a5-4a42-ff07-3da85868d5dc"
      },
      "execution_count": null,
      "outputs": [
        {
          "output_type": "stream",
          "name": "stdout",
          "text": [
            "[[948  52]\n",
            " [ 14 986]]\n"
          ]
        }
      ]
    },
    {
      "cell_type": "markdown",
      "source": [
        "# CNN Baseline"
      ],
      "metadata": {
        "id": "oxslY8Xe7hXa"
      }
    },
    {
      "cell_type": "code",
      "source": [
        "from __future__ import print_function\n",
        "import tensorflow as tf \n",
        "import keras\n",
        "from keras.models import Sequential\n",
        "from keras.layers import Dense, Dropout, Flatten\n",
        "from keras.layers import Conv2D, MaxPooling2D\n",
        "from keras import backend as K\n",
        "from keras.preprocessing.image import ImageDataGenerator"
      ],
      "metadata": {
        "id": "gHzNmm1b8n_L"
      },
      "execution_count": null,
      "outputs": []
    },
    {
      "cell_type": "code",
      "source": [
        "# Define the input shape\n",
        "input_shape = (128, 128, 3)\n",
        "\n",
        "# Create a Sequential model\n",
        "model = Sequential()\n",
        "\n",
        "# Block 1\n",
        "model.add(Conv2D(filters=96, kernel_size=(11, 11), strides=(4, 4), activation='relu', padding='valid', input_shape=input_shape))\n",
        "model.add(MaxPooling2D(pool_size=(3, 3), strides=(2, 2)))\n",
        "\n",
        "# Block 2\n",
        "model.add(Conv2D(filters=256, kernel_size=(5, 5), strides=(1, 1), activation='relu', padding='same'))\n",
        "model.add(MaxPooling2D(pool_size=(3, 3), strides=(2, 2)))\n",
        "\n",
        "# Block 3\n",
        "model.add(Conv2D(filters=384, kernel_size=(3, 3), strides=(1, 1), activation='relu', padding='same'))\n",
        "model.add(Conv2D(filters=384, kernel_size=(3, 3), strides=(1, 1), activation='relu', padding='same'))\n",
        "model.add(Conv2D(filters=256, kernel_size=(3, 3), strides=(1, 1), activation='relu', padding='same'))\n",
        "model.add(MaxPooling2D(pool_size=(3, 3), strides=(2, 2)))\n",
        "\n",
        "# Dense layers\n",
        "model.add(Flatten())\n",
        "model.add(Dense(units=4096, activation='relu'))\n",
        "model.add(Dropout(rate=0.5))\n",
        "model.add(Dense(units=4096, activation='relu'))\n",
        "model.add(Dropout(rate=0.5))\n",
        "model.add(Dense(units = 2, activation='sigmoid'))\n",
        "\n",
        "# Print the model summary\n",
        "model.summary()"
      ],
      "metadata": {
        "id": "yaBZAPJX753Q",
        "colab": {
          "base_uri": "https://localhost:8080/"
        },
        "outputId": "f9077b39-5c06-413f-c742-0de38f4b42f4"
      },
      "execution_count": null,
      "outputs": [
        {
          "output_type": "stream",
          "name": "stdout",
          "text": [
            "Model: \"sequential_1\"\n",
            "_________________________________________________________________\n",
            " Layer (type)                Output Shape              Param #   \n",
            "=================================================================\n",
            " conv2d_5 (Conv2D)           (None, 30, 30, 96)        34944     \n",
            "                                                                 \n",
            " max_pooling2d_3 (MaxPooling  (None, 14, 14, 96)       0         \n",
            " 2D)                                                             \n",
            "                                                                 \n",
            " conv2d_6 (Conv2D)           (None, 14, 14, 256)       614656    \n",
            "                                                                 \n",
            " max_pooling2d_4 (MaxPooling  (None, 6, 6, 256)        0         \n",
            " 2D)                                                             \n",
            "                                                                 \n",
            " conv2d_7 (Conv2D)           (None, 6, 6, 384)         885120    \n",
            "                                                                 \n",
            " conv2d_8 (Conv2D)           (None, 6, 6, 384)         1327488   \n",
            "                                                                 \n",
            " conv2d_9 (Conv2D)           (None, 6, 6, 256)         884992    \n",
            "                                                                 \n",
            " max_pooling2d_5 (MaxPooling  (None, 2, 2, 256)        0         \n",
            " 2D)                                                             \n",
            "                                                                 \n",
            " flatten_1 (Flatten)         (None, 1024)              0         \n",
            "                                                                 \n",
            " dense_3 (Dense)             (None, 4096)              4198400   \n",
            "                                                                 \n",
            " dropout_2 (Dropout)         (None, 4096)              0         \n",
            "                                                                 \n",
            " dense_4 (Dense)             (None, 4096)              16781312  \n",
            "                                                                 \n",
            " dropout_3 (Dropout)         (None, 4096)              0         \n",
            "                                                                 \n",
            " dense_5 (Dense)             (None, 2)                 8194      \n",
            "                                                                 \n",
            "=================================================================\n",
            "Total params: 24,735,106\n",
            "Trainable params: 24,735,106\n",
            "Non-trainable params: 0\n",
            "_________________________________________________________________\n"
          ]
        }
      ]
    },
    {
      "cell_type": "code",
      "source": [
        "# Convert class vectors to 10 class matrices\n",
        "y_train = keras.utils.np_utils.to_categorical(y_tr, 2)\n",
        "y_val = keras.utils.np_utils.to_categorical(y_dev, 2)\n",
        "y_test = keras.utils.np_utils.to_categorical(y_te, 2)\n",
        "\n",
        "# Compile the model\n",
        "model.compile(loss=keras.losses.categorical_crossentropy,\n",
        "              optimizer=tf.keras.optimizers.Adadelta(learning_rate = 0.5),\n",
        "              metrics=['accuracy'])\n",
        "\n",
        "# Train the model using full batch\n",
        "model.fit(X_tr, y_train,\n",
        "          epochs = 30,\n",
        "          verbose=1,\n",
        "          validation_data=(X_dev, y_val))"
      ],
      "metadata": {
        "colab": {
          "base_uri": "https://localhost:8080/"
        },
        "id": "H2msEf-l80sH",
        "outputId": "0fa9d9f1-2133-4ca1-c845-9041bbbab1af"
      },
      "execution_count": null,
      "outputs": [
        {
          "output_type": "stream",
          "name": "stdout",
          "text": [
            "Epoch 1/30\n",
            "594/594 [==============================] - 6s 6ms/step - loss: 0.8038 - accuracy: 0.6843 - val_loss: 0.4171 - val_accuracy: 0.8219\n",
            "Epoch 2/30\n",
            "594/594 [==============================] - 3s 6ms/step - loss: 0.4262 - accuracy: 0.8138 - val_loss: 0.3874 - val_accuracy: 0.8279\n",
            "Epoch 3/30\n",
            "594/594 [==============================] - 3s 6ms/step - loss: 0.3758 - accuracy: 0.8441 - val_loss: 0.3316 - val_accuracy: 0.8740\n",
            "Epoch 4/30\n",
            "594/594 [==============================] - 3s 6ms/step - loss: 0.3542 - accuracy: 0.8632 - val_loss: 0.6228 - val_accuracy: 0.6404\n",
            "Epoch 5/30\n",
            "594/594 [==============================] - 3s 6ms/step - loss: 0.3032 - accuracy: 0.8813 - val_loss: 0.2710 - val_accuracy: 0.8924\n",
            "Epoch 6/30\n",
            "594/594 [==============================] - 3s 6ms/step - loss: 0.2768 - accuracy: 0.8954 - val_loss: 0.3641 - val_accuracy: 0.8472\n",
            "Epoch 7/30\n",
            "594/594 [==============================] - 3s 6ms/step - loss: 0.2459 - accuracy: 0.9094 - val_loss: 0.2638 - val_accuracy: 0.8993\n",
            "Epoch 8/30\n",
            "594/594 [==============================] - 3s 6ms/step - loss: 0.2229 - accuracy: 0.9188 - val_loss: 0.2704 - val_accuracy: 0.9112\n",
            "Epoch 9/30\n",
            "594/594 [==============================] - 3s 6ms/step - loss: 0.2040 - accuracy: 0.9268 - val_loss: 0.3385 - val_accuracy: 0.8700\n",
            "Epoch 10/30\n",
            "594/594 [==============================] - 3s 6ms/step - loss: 0.1927 - accuracy: 0.9309 - val_loss: 0.2850 - val_accuracy: 0.9048\n",
            "Epoch 11/30\n",
            "594/594 [==============================] - 3s 6ms/step - loss: 0.1669 - accuracy: 0.9410 - val_loss: 0.2881 - val_accuracy: 0.9013\n",
            "Epoch 12/30\n",
            "594/594 [==============================] - 3s 6ms/step - loss: 0.1511 - accuracy: 0.9481 - val_loss: 0.3822 - val_accuracy: 0.8482\n",
            "Epoch 13/30\n",
            "594/594 [==============================] - 3s 6ms/step - loss: 0.1393 - accuracy: 0.9521 - val_loss: 0.3599 - val_accuracy: 0.8963\n",
            "Epoch 14/30\n",
            "594/594 [==============================] - 3s 6ms/step - loss: 0.1343 - accuracy: 0.9546 - val_loss: 0.3162 - val_accuracy: 0.9033\n",
            "Epoch 15/30\n",
            "594/594 [==============================] - 3s 6ms/step - loss: 0.1179 - accuracy: 0.9604 - val_loss: 0.4299 - val_accuracy: 0.8938\n",
            "Epoch 16/30\n",
            "594/594 [==============================] - 3s 6ms/step - loss: 0.1129 - accuracy: 0.9622 - val_loss: 0.3150 - val_accuracy: 0.8978\n",
            "Epoch 17/30\n",
            "594/594 [==============================] - 3s 6ms/step - loss: 0.0956 - accuracy: 0.9672 - val_loss: 0.3712 - val_accuracy: 0.8973\n",
            "Epoch 18/30\n",
            "594/594 [==============================] - 3s 6ms/step - loss: 0.0898 - accuracy: 0.9706 - val_loss: 0.4179 - val_accuracy: 0.8943\n",
            "Epoch 19/30\n",
            "594/594 [==============================] - 3s 6ms/step - loss: 0.0789 - accuracy: 0.9753 - val_loss: 0.4388 - val_accuracy: 0.8978\n",
            "Epoch 20/30\n",
            "594/594 [==============================] - 3s 6ms/step - loss: 0.0773 - accuracy: 0.9761 - val_loss: 0.5367 - val_accuracy: 0.8914\n",
            "Epoch 21/30\n",
            "594/594 [==============================] - 3s 6ms/step - loss: 0.0721 - accuracy: 0.9769 - val_loss: 0.4637 - val_accuracy: 0.8968\n",
            "Epoch 22/30\n",
            "594/594 [==============================] - 3s 6ms/step - loss: 0.0659 - accuracy: 0.9796 - val_loss: 0.5085 - val_accuracy: 0.9013\n",
            "Epoch 23/30\n",
            "594/594 [==============================] - 3s 6ms/step - loss: 0.0632 - accuracy: 0.9807 - val_loss: 0.5705 - val_accuracy: 0.8914\n",
            "Epoch 24/30\n",
            "594/594 [==============================] - 3s 6ms/step - loss: 0.0611 - accuracy: 0.9812 - val_loss: 0.5314 - val_accuracy: 0.8859\n",
            "Epoch 25/30\n",
            "594/594 [==============================] - 3s 6ms/step - loss: 0.0528 - accuracy: 0.9837 - val_loss: 0.5977 - val_accuracy: 0.8879\n",
            "Epoch 26/30\n",
            "594/594 [==============================] - 3s 6ms/step - loss: 0.0561 - accuracy: 0.9838 - val_loss: 0.4789 - val_accuracy: 0.8973\n",
            "Epoch 27/30\n",
            "594/594 [==============================] - 3s 6ms/step - loss: 0.0529 - accuracy: 0.9848 - val_loss: 0.4046 - val_accuracy: 0.9028\n",
            "Epoch 28/30\n",
            "594/594 [==============================] - 3s 6ms/step - loss: 0.0519 - accuracy: 0.9849 - val_loss: 0.5643 - val_accuracy: 0.9018\n",
            "Epoch 29/30\n",
            "594/594 [==============================] - 3s 6ms/step - loss: 0.0513 - accuracy: 0.9860 - val_loss: 0.5041 - val_accuracy: 0.8943\n",
            "Epoch 30/30\n",
            "594/594 [==============================] - 3s 6ms/step - loss: 0.0391 - accuracy: 0.9891 - val_loss: 0.6433 - val_accuracy: 0.8953\n"
          ]
        },
        {
          "output_type": "execute_result",
          "data": {
            "text/plain": [
              "<keras.callbacks.History at 0x7fd6983b6850>"
            ]
          },
          "metadata": {},
          "execution_count": 53
        }
      ]
    },
    {
      "cell_type": "code",
      "source": [
        "# Test accuracy after 30 epochs\n",
        "score = model.evaluate(X_te, y_test, verbose=0)\n",
        "print('Test accuracy:', score[1])"
      ],
      "metadata": {
        "colab": {
          "base_uri": "https://localhost:8080/"
        },
        "id": "5veVh6mI8yNX",
        "outputId": "6aa2c3c4-c979-4644-bd66-907a87396c61"
      },
      "execution_count": null,
      "outputs": [
        {
          "output_type": "stream",
          "name": "stdout",
          "text": [
            "Test accuracy: 0.9704999923706055\n"
          ]
        }
      ]
    },
    {
      "cell_type": "code",
      "source": [
        "# Dev Set CM\n",
        "pred_dev_CNN = np.argmax(model.predict(X_dev),axis=1)\n",
        "cm_CNN = confusion_matrix(pred_dev_CNN, y_dev)\n",
        "print(cm_CNN)"
      ],
      "metadata": {
        "colab": {
          "base_uri": "https://localhost:8080/"
        },
        "id": "jJbeVqyvN2J7",
        "outputId": "de40e202-97e1-437a-b33f-720f91e45a3a"
      },
      "execution_count": null,
      "outputs": [
        {
          "output_type": "stream",
          "name": "stdout",
          "text": [
            "63/63 [==============================] - 0s 2ms/step\n",
            "[[ 536   75]\n",
            " [ 136 1269]]\n"
          ]
        }
      ]
    },
    {
      "cell_type": "code",
      "source": [
        "# Test Set CM\n",
        "pred_te_CNN = np.argmax(model.predict(X_te),axis=1)\n",
        "cm_CNN = confusion_matrix(pred_te_CNN, y_te)\n",
        "print(cm_CNN)"
      ],
      "metadata": {
        "colab": {
          "base_uri": "https://localhost:8080/"
        },
        "id": "s_B3i_kZPNY3",
        "outputId": "a3772edf-a703-48f1-fa32-deb7e98009e0"
      },
      "execution_count": null,
      "outputs": [
        {
          "output_type": "stream",
          "name": "stdout",
          "text": [
            "63/63 [==============================] - 0s 2ms/step\n",
            "[[949   8]\n",
            " [ 51 992]]\n"
          ]
        }
      ]
    }
  ],
  "metadata": {
    "kernelspec": {
      "display_name": "Python 3 (ipykernel)",
      "language": "python",
      "name": "python3"
    },
    "language_info": {
      "codemirror_mode": {
        "name": "ipython",
        "version": 3
      },
      "file_extension": ".py",
      "mimetype": "text/x-python",
      "name": "python",
      "nbconvert_exporter": "python",
      "pygments_lexer": "ipython3",
      "version": "3.8.12"
    },
    "colab": {
      "provenance": [],
      "machine_shape": "hm"
    },
    "accelerator": "GPU",
    "gpuClass": "premium"
  },
  "nbformat": 4,
  "nbformat_minor": 0
}